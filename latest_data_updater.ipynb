{
 "cells": [
  {
   "cell_type": "code",
   "execution_count": 42,
   "id": "9dbf4322",
   "metadata": {},
   "outputs": [],
   "source": [
    "latest_nav_path = \"dailyNAV/NAVAll_2025-06-27.txt\""
   ]
  },
  {
   "cell_type": "code",
   "execution_count": 43,
   "id": "e70e84cc",
   "metadata": {},
   "outputs": [
    {
     "data": {
      "text/html": [
       "<div>\n",
       "<style scoped>\n",
       "    .dataframe tbody tr th:only-of-type {\n",
       "        vertical-align: middle;\n",
       "    }\n",
       "\n",
       "    .dataframe tbody tr th {\n",
       "        vertical-align: top;\n",
       "    }\n",
       "\n",
       "    .dataframe thead th {\n",
       "        text-align: right;\n",
       "    }\n",
       "</style>\n",
       "<table border=\"1\" class=\"dataframe\">\n",
       "  <thead>\n",
       "    <tr style=\"text-align: right;\">\n",
       "      <th></th>\n",
       "      <th>Scheme Code</th>\n",
       "      <th>Scheme Name</th>\n",
       "      <th>Net Asset Value</th>\n",
       "      <th>Date</th>\n",
       "    </tr>\n",
       "  </thead>\n",
       "  <tbody>\n",
       "    <tr>\n",
       "      <th>13449</th>\n",
       "      <td>123212</td>\n",
       "      <td>Reliance Fixed Horizon Fund - XXIV - Series 7 ...</td>\n",
       "      <td>10.0000</td>\n",
       "      <td>02-Sep-2016</td>\n",
       "    </tr>\n",
       "    <tr>\n",
       "      <th>9745</th>\n",
       "      <td>147825</td>\n",
       "      <td>Axis Retirement Fund - Aggressive Plan - Direc...</td>\n",
       "      <td>20.44</td>\n",
       "      <td>26-Jun-2025</td>\n",
       "    </tr>\n",
       "    <tr>\n",
       "      <th>5520</th>\n",
       "      <td>152920</td>\n",
       "      <td>LIC MF Manufacturing Fund-Direct Plan-Growth</td>\n",
       "      <td>10.0272</td>\n",
       "      <td>26-Jun-2025</td>\n",
       "    </tr>\n",
       "  </tbody>\n",
       "</table>\n",
       "</div>"
      ],
      "text/plain": [
       "      Scheme Code                                        Scheme Name  \\\n",
       "13449      123212  Reliance Fixed Horizon Fund - XXIV - Series 7 ...   \n",
       "9745       147825  Axis Retirement Fund - Aggressive Plan - Direc...   \n",
       "5520       152920       LIC MF Manufacturing Fund-Direct Plan-Growth   \n",
       "\n",
       "      Net Asset Value         Date  \n",
       "13449         10.0000  02-Sep-2016  \n",
       "9745            20.44  26-Jun-2025  \n",
       "5520          10.0272  26-Jun-2025  "
      ]
     },
     "execution_count": 43,
     "metadata": {},
     "output_type": "execute_result"
    }
   ],
   "source": [
    "import pandas as pd\n",
    "import numpy as np\n",
    "df = pd.read_csv(latest_nav_path , delimiter=\";\")[[\"Scheme Code\" , \"Scheme Name\", \"Net Asset Value\" , \"Date\"]]\n",
    "df.sample(3)"
   ]
  },
  {
   "cell_type": "code",
   "execution_count": 44,
   "id": "3545db4e",
   "metadata": {},
   "outputs": [
    {
     "name": "stdout",
     "output_type": "stream",
     "text": [
      "<class 'pandas.core.frame.DataFrame'>\n",
      "RangeIndex: 15171 entries, 0 to 15170\n",
      "Data columns (total 4 columns):\n",
      " #   Column           Non-Null Count  Dtype \n",
      "---  ------           --------------  ----- \n",
      " 0   Scheme Code      15171 non-null  object\n",
      " 1   Scheme Name      14112 non-null  object\n",
      " 2   Net Asset Value  14112 non-null  object\n",
      " 3   Date             14112 non-null  object\n",
      "dtypes: object(4)\n",
      "memory usage: 474.2+ KB\n"
     ]
    }
   ],
   "source": [
    "df.info()"
   ]
  },
  {
   "cell_type": "code",
   "execution_count": 45,
   "id": "a16ba695",
   "metadata": {},
   "outputs": [
    {
     "data": {
      "text/html": [
       "<div>\n",
       "<style scoped>\n",
       "    .dataframe tbody tr th:only-of-type {\n",
       "        vertical-align: middle;\n",
       "    }\n",
       "\n",
       "    .dataframe tbody tr th {\n",
       "        vertical-align: top;\n",
       "    }\n",
       "\n",
       "    .dataframe thead th {\n",
       "        text-align: right;\n",
       "    }\n",
       "</style>\n",
       "<table border=\"1\" class=\"dataframe\">\n",
       "  <thead>\n",
       "    <tr style=\"text-align: right;\">\n",
       "      <th></th>\n",
       "      <th>Scheme Code</th>\n",
       "      <th>Scheme Name</th>\n",
       "      <th>Net Asset Value</th>\n",
       "      <th>Date</th>\n",
       "    </tr>\n",
       "  </thead>\n",
       "  <tbody>\n",
       "    <tr>\n",
       "      <th>2</th>\n",
       "      <td>119551</td>\n",
       "      <td>Aditya Birla Sun Life Banking &amp; PSU Debt Fund ...</td>\n",
       "      <td>107.5011</td>\n",
       "      <td>26-Jun-2025</td>\n",
       "    </tr>\n",
       "    <tr>\n",
       "      <th>3</th>\n",
       "      <td>119552</td>\n",
       "      <td>Aditya Birla Sun Life Banking &amp; PSU Debt Fund ...</td>\n",
       "      <td>118.0124</td>\n",
       "      <td>26-Jun-2025</td>\n",
       "    </tr>\n",
       "    <tr>\n",
       "      <th>4</th>\n",
       "      <td>119553</td>\n",
       "      <td>Aditya Birla Sun Life Banking &amp; PSU Debt Fund ...</td>\n",
       "      <td>104.6736</td>\n",
       "      <td>26-Jun-2025</td>\n",
       "    </tr>\n",
       "  </tbody>\n",
       "</table>\n",
       "</div>"
      ],
      "text/plain": [
       "  Scheme Code                                        Scheme Name  \\\n",
       "2      119551  Aditya Birla Sun Life Banking & PSU Debt Fund ...   \n",
       "3      119552  Aditya Birla Sun Life Banking & PSU Debt Fund ...   \n",
       "4      119553  Aditya Birla Sun Life Banking & PSU Debt Fund ...   \n",
       "\n",
       "  Net Asset Value         Date  \n",
       "2        107.5011  26-Jun-2025  \n",
       "3        118.0124  26-Jun-2025  \n",
       "4        104.6736  26-Jun-2025  "
      ]
     },
     "execution_count": 45,
     "metadata": {},
     "output_type": "execute_result"
    }
   ],
   "source": [
    "df = df.drop(df[~df[\"Scheme Code\"].apply(lambda x : x.isdigit())].index)\n",
    "df.head(3)"
   ]
  },
  {
   "cell_type": "code",
   "execution_count": 46,
   "id": "50b3eba1",
   "metadata": {},
   "outputs": [],
   "source": [
    "df[\"Scheme Code\"] = df[\"Scheme Code\"].astype(int)\n",
    "df[\"Net Asset Value\"] = df[\"Net Asset Value\"].replace(\"N.A.\" , np.nan).astype(np.float64)\n",
    "df[\"Date\"] = pd.to_datetime(df[\"Date\"])"
   ]
  },
  {
   "cell_type": "code",
   "execution_count": 47,
   "id": "b295bd1e",
   "metadata": {},
   "outputs": [
    {
     "name": "stdout",
     "output_type": "stream",
     "text": [
      "<class 'pandas.core.frame.DataFrame'>\n",
      "Index: 14112 entries, 2 to 15170\n",
      "Data columns (total 4 columns):\n",
      " #   Column           Non-Null Count  Dtype         \n",
      "---  ------           --------------  -----         \n",
      " 0   Scheme Code      14112 non-null  int32         \n",
      " 1   Scheme Name      14112 non-null  object        \n",
      " 2   Net Asset Value  14106 non-null  float64       \n",
      " 3   Date             14112 non-null  datetime64[ns]\n",
      "dtypes: datetime64[ns](1), float64(1), int32(1), object(1)\n",
      "memory usage: 496.1+ KB\n"
     ]
    }
   ],
   "source": [
    "df.info()"
   ]
  },
  {
   "cell_type": "code",
   "execution_count": 48,
   "id": "9cccdf5a",
   "metadata": {},
   "outputs": [
    {
     "data": {
      "text/html": [
       "<div>\n",
       "<style scoped>\n",
       "    .dataframe tbody tr th:only-of-type {\n",
       "        vertical-align: middle;\n",
       "    }\n",
       "\n",
       "    .dataframe tbody tr th {\n",
       "        vertical-align: top;\n",
       "    }\n",
       "\n",
       "    .dataframe thead th {\n",
       "        text-align: right;\n",
       "    }\n",
       "</style>\n",
       "<table border=\"1\" class=\"dataframe\">\n",
       "  <thead>\n",
       "    <tr style=\"text-align: right;\">\n",
       "      <th></th>\n",
       "      <th>Scheme Code</th>\n",
       "      <th>Scheme Name</th>\n",
       "      <th>Net Asset Value</th>\n",
       "      <th>Date</th>\n",
       "    </tr>\n",
       "  </thead>\n",
       "  <tbody>\n",
       "    <tr>\n",
       "      <th>2987</th>\n",
       "      <td>147600</td>\n",
       "      <td>PGIM India Overnight Fund - Regular Plan- Grow...</td>\n",
       "      <td>1329.8240</td>\n",
       "      <td>2025-06-26</td>\n",
       "    </tr>\n",
       "    <tr>\n",
       "      <th>8079</th>\n",
       "      <td>116632</td>\n",
       "      <td>Franklin U.S. Opportunities Equity Active Fund...</td>\n",
       "      <td>75.0552</td>\n",
       "      <td>2025-06-26</td>\n",
       "    </tr>\n",
       "  </tbody>\n",
       "</table>\n",
       "</div>"
      ],
      "text/plain": [
       "      Scheme Code                                        Scheme Name  \\\n",
       "2987       147600  PGIM India Overnight Fund - Regular Plan- Grow...   \n",
       "8079       116632  Franklin U.S. Opportunities Equity Active Fund...   \n",
       "\n",
       "      Net Asset Value       Date  \n",
       "2987        1329.8240 2025-06-26  \n",
       "8079          75.0552 2025-06-26  "
      ]
     },
     "execution_count": 48,
     "metadata": {},
     "output_type": "execute_result"
    }
   ],
   "source": [
    "df.sample(2)"
   ]
  },
  {
   "cell_type": "code",
   "execution_count": 49,
   "id": "daf10acd",
   "metadata": {},
   "outputs": [
    {
     "data": {
      "text/html": [
       "<div>\n",
       "<style scoped>\n",
       "    .dataframe tbody tr th:only-of-type {\n",
       "        vertical-align: middle;\n",
       "    }\n",
       "\n",
       "    .dataframe tbody tr th {\n",
       "        vertical-align: top;\n",
       "    }\n",
       "\n",
       "    .dataframe thead th {\n",
       "        text-align: right;\n",
       "    }\n",
       "</style>\n",
       "<table border=\"1\" class=\"dataframe\">\n",
       "  <thead>\n",
       "    <tr style=\"text-align: right;\">\n",
       "      <th></th>\n",
       "      <th>Scheme Code</th>\n",
       "      <th>Scheme Name</th>\n",
       "      <th>Net Asset Value</th>\n",
       "      <th>Date</th>\n",
       "    </tr>\n",
       "  </thead>\n",
       "  <tbody>\n",
       "    <tr>\n",
       "      <th>5540</th>\n",
       "      <td>148621</td>\n",
       "      <td>Mirae Asset Banking and Financial Services Fun...</td>\n",
       "      <td>20.9630</td>\n",
       "      <td>2025-06-26</td>\n",
       "    </tr>\n",
       "    <tr>\n",
       "      <th>3067</th>\n",
       "      <td>120511</td>\n",
       "      <td>Axis Short Duration Fund - Direct Plan - Month...</td>\n",
       "      <td>10.0906</td>\n",
       "      <td>2025-06-26</td>\n",
       "    </tr>\n",
       "  </tbody>\n",
       "</table>\n",
       "</div>"
      ],
      "text/plain": [
       "      Scheme Code                                        Scheme Name  \\\n",
       "5540       148621  Mirae Asset Banking and Financial Services Fun...   \n",
       "3067       120511  Axis Short Duration Fund - Direct Plan - Month...   \n",
       "\n",
       "      Net Asset Value       Date  \n",
       "5540          20.9630 2025-06-26  \n",
       "3067          10.0906 2025-06-26  "
      ]
     },
     "execution_count": 49,
     "metadata": {},
     "output_type": "execute_result"
    }
   ],
   "source": [
    "df = df[df[\"Date\"].dt.date == pd.Timestamp.today().date() - pd.Timedelta(days=4)]\n",
    "df.sample(2)"
   ]
  },
  {
   "cell_type": "code",
   "execution_count": 55,
   "id": "985b7045",
   "metadata": {},
   "outputs": [
    {
     "name": "stderr",
     "output_type": "stream",
     "text": [
      "C:\\Users\\vaibh\\AppData\\Local\\Temp\\ipykernel_21968\\2924199640.py:2: DtypeWarning: Columns (3) have mixed types. Specify dtype option on import or set low_memory=False.\n",
      "  nav_time_series = pd.read_csv(nav_series)\n"
     ]
    },
    {
     "data": {
      "text/html": [
       "<div>\n",
       "<style scoped>\n",
       "    .dataframe tbody tr th:only-of-type {\n",
       "        vertical-align: middle;\n",
       "    }\n",
       "\n",
       "    .dataframe tbody tr th {\n",
       "        vertical-align: top;\n",
       "    }\n",
       "\n",
       "    .dataframe thead th {\n",
       "        text-align: right;\n",
       "    }\n",
       "</style>\n",
       "<table border=\"1\" class=\"dataframe\">\n",
       "  <thead>\n",
       "    <tr style=\"text-align: right;\">\n",
       "      <th></th>\n",
       "      <th>Scheme Code</th>\n",
       "      <th>Scheme Name</th>\n",
       "      <th>ISIN Div Payout/ISIN Growth</th>\n",
       "      <th>ISIN Div Reinvestment</th>\n",
       "      <th>Net Asset Value</th>\n",
       "      <th>Date</th>\n",
       "    </tr>\n",
       "  </thead>\n",
       "  <tbody>\n",
       "    <tr>\n",
       "      <th>595633</th>\n",
       "      <td>105805</td>\n",
       "      <td>Aditya Birla Sun Life Small Cap Fund -Regular ...</td>\n",
       "      <td>INF209K01EO0</td>\n",
       "      <td>INF209K01EP7</td>\n",
       "      <td>26.6132</td>\n",
       "      <td>2022-03-04</td>\n",
       "    </tr>\n",
       "    <tr>\n",
       "      <th>6148653</th>\n",
       "      <td>148290</td>\n",
       "      <td>NIPPON INDIA STRATEGIC DEBT FUND -  SEGREGATED...</td>\n",
       "      <td>INF204KB12R7</td>\n",
       "      <td>INF204KB13R5</td>\n",
       "      <td>0.0000</td>\n",
       "      <td>2021-02-16</td>\n",
       "    </tr>\n",
       "    <tr>\n",
       "      <th>1122975</th>\n",
       "      <td>145774</td>\n",
       "      <td>Aditya Birla Sun Life Fixed Term Plan - Series...</td>\n",
       "      <td>INF209KB1B20</td>\n",
       "      <td>NaN</td>\n",
       "      <td>12.2855</td>\n",
       "      <td>2020-12-30</td>\n",
       "    </tr>\n",
       "  </tbody>\n",
       "</table>\n",
       "</div>"
      ],
      "text/plain": [
       "         Scheme Code                                        Scheme Name  \\\n",
       "595633        105805  Aditya Birla Sun Life Small Cap Fund -Regular ...   \n",
       "6148653       148290  NIPPON INDIA STRATEGIC DEBT FUND -  SEGREGATED...   \n",
       "1122975       145774  Aditya Birla Sun Life Fixed Term Plan - Series...   \n",
       "\n",
       "        ISIN Div Payout/ISIN Growth ISIN Div Reinvestment  Net Asset Value  \\\n",
       "595633                 INF209K01EO0          INF209K01EP7          26.6132   \n",
       "6148653                INF204KB12R7          INF204KB13R5           0.0000   \n",
       "1122975                INF209KB1B20                   NaN          12.2855   \n",
       "\n",
       "              Date  \n",
       "595633  2022-03-04  \n",
       "6148653 2021-02-16  \n",
       "1122975 2020-12-30  "
      ]
     },
     "execution_count": 55,
     "metadata": {},
     "output_type": "execute_result"
    }
   ],
   "source": [
    "nav_series = \"Historical_nav/nav_time_series2.csv\"\n",
    "nav_time_series = pd.read_csv(nav_series)\n",
    "nav_time_series[\"Date\"] = pd.to_datetime(nav_time_series[\"Date\"])\n",
    "nav_time_series[\"Scheme Code\"] = nav_time_series[\"Scheme Code\"].map(int)\n",
    "nav_time_series.sample(3)"
   ]
  },
  {
   "cell_type": "code",
   "execution_count": 56,
   "id": "adb38a4e",
   "metadata": {},
   "outputs": [
    {
     "name": "stdout",
     "output_type": "stream",
     "text": [
      "<class 'pandas.core.frame.DataFrame'>\n",
      "RangeIndex: 9609323 entries, 0 to 9609322\n",
      "Data columns (total 6 columns):\n",
      " #   Column                       Dtype         \n",
      "---  ------                       -----         \n",
      " 0   Scheme Code                  int64         \n",
      " 1   Scheme Name                  object        \n",
      " 2   ISIN Div Payout/ISIN Growth  object        \n",
      " 3   ISIN Div Reinvestment        object        \n",
      " 4   Net Asset Value              float64       \n",
      " 5   Date                         datetime64[ns]\n",
      "dtypes: datetime64[ns](1), float64(1), int64(1), object(3)\n",
      "memory usage: 439.9+ MB\n"
     ]
    }
   ],
   "source": [
    "nav_time_series.info()"
   ]
  },
  {
   "cell_type": "code",
   "execution_count": 57,
   "id": "6b5fd6be",
   "metadata": {},
   "outputs": [],
   "source": [
    "# Pivot NAVs: rows = dates, columns = scheme codes\n",
    "nav_wide = nav_time_series.pivot(index='Date', columns='Scheme Code', values='Net Asset Value').sort_index()\n"
   ]
  },
  {
   "cell_type": "code",
   "execution_count": 58,
   "id": "314eee3c",
   "metadata": {},
   "outputs": [
    {
     "data": {
      "text/html": [
       "<div>\n",
       "<style scoped>\n",
       "    .dataframe tbody tr th:only-of-type {\n",
       "        vertical-align: middle;\n",
       "    }\n",
       "\n",
       "    .dataframe tbody tr th {\n",
       "        vertical-align: top;\n",
       "    }\n",
       "\n",
       "    .dataframe thead th {\n",
       "        text-align: right;\n",
       "    }\n",
       "</style>\n",
       "<table border=\"1\" class=\"dataframe\">\n",
       "  <thead>\n",
       "    <tr style=\"text-align: right;\">\n",
       "      <th>Scheme Code</th>\n",
       "      <th>100033</th>\n",
       "      <th>100034</th>\n",
       "      <th>100037</th>\n",
       "      <th>100038</th>\n",
       "      <th>100041</th>\n",
       "      <th>100042</th>\n",
       "      <th>100043</th>\n",
       "      <th>100044</th>\n",
       "      <th>100046</th>\n",
       "      <th>100047</th>\n",
       "      <th>...</th>\n",
       "      <th>153598</th>\n",
       "      <th>153599</th>\n",
       "      <th>153600</th>\n",
       "      <th>153601</th>\n",
       "      <th>153608</th>\n",
       "      <th>153618</th>\n",
       "      <th>153634</th>\n",
       "      <th>153635</th>\n",
       "      <th>153636</th>\n",
       "      <th>153637</th>\n",
       "    </tr>\n",
       "    <tr>\n",
       "      <th>Date</th>\n",
       "      <th></th>\n",
       "      <th></th>\n",
       "      <th></th>\n",
       "      <th></th>\n",
       "      <th></th>\n",
       "      <th></th>\n",
       "      <th></th>\n",
       "      <th></th>\n",
       "      <th></th>\n",
       "      <th></th>\n",
       "      <th></th>\n",
       "      <th></th>\n",
       "      <th></th>\n",
       "      <th></th>\n",
       "      <th></th>\n",
       "      <th></th>\n",
       "      <th></th>\n",
       "      <th></th>\n",
       "      <th></th>\n",
       "      <th></th>\n",
       "      <th></th>\n",
       "    </tr>\n",
       "  </thead>\n",
       "  <tbody>\n",
       "    <tr>\n",
       "      <th>2025-03-06</th>\n",
       "      <td>791.51</td>\n",
       "      <td>122.76</td>\n",
       "      <td>13.3546</td>\n",
       "      <td>121.6639</td>\n",
       "      <td>108.023</td>\n",
       "      <td>667.8672</td>\n",
       "      <td>685.3699</td>\n",
       "      <td>163.694</td>\n",
       "      <td>100.195</td>\n",
       "      <td>411.5543</td>\n",
       "      <td>...</td>\n",
       "      <td>NaN</td>\n",
       "      <td>NaN</td>\n",
       "      <td>NaN</td>\n",
       "      <td>NaN</td>\n",
       "      <td>NaN</td>\n",
       "      <td>NaN</td>\n",
       "      <td>NaN</td>\n",
       "      <td>NaN</td>\n",
       "      <td>NaN</td>\n",
       "      <td>NaN</td>\n",
       "    </tr>\n",
       "    <tr>\n",
       "      <th>2022-02-02</th>\n",
       "      <td>684.30</td>\n",
       "      <td>130.34</td>\n",
       "      <td>13.3979</td>\n",
       "      <td>101.4304</td>\n",
       "      <td>108.023</td>\n",
       "      <td>549.2017</td>\n",
       "      <td>563.5946</td>\n",
       "      <td>163.694</td>\n",
       "      <td>100.195</td>\n",
       "      <td>338.4313</td>\n",
       "      <td>...</td>\n",
       "      <td>NaN</td>\n",
       "      <td>NaN</td>\n",
       "      <td>NaN</td>\n",
       "      <td>NaN</td>\n",
       "      <td>NaN</td>\n",
       "      <td>NaN</td>\n",
       "      <td>NaN</td>\n",
       "      <td>NaN</td>\n",
       "      <td>NaN</td>\n",
       "      <td>NaN</td>\n",
       "    </tr>\n",
       "    <tr>\n",
       "      <th>2023-12-22</th>\n",
       "      <td>750.89</td>\n",
       "      <td>124.99</td>\n",
       "      <td>13.0216</td>\n",
       "      <td>111.0855</td>\n",
       "      <td>108.023</td>\n",
       "      <td>613.3346</td>\n",
       "      <td>629.4082</td>\n",
       "      <td>163.694</td>\n",
       "      <td>100.195</td>\n",
       "      <td>377.9509</td>\n",
       "      <td>...</td>\n",
       "      <td>NaN</td>\n",
       "      <td>NaN</td>\n",
       "      <td>NaN</td>\n",
       "      <td>NaN</td>\n",
       "      <td>NaN</td>\n",
       "      <td>NaN</td>\n",
       "      <td>NaN</td>\n",
       "      <td>NaN</td>\n",
       "      <td>NaN</td>\n",
       "      <td>NaN</td>\n",
       "    </tr>\n",
       "  </tbody>\n",
       "</table>\n",
       "<p>3 rows × 13133 columns</p>\n",
       "</div>"
      ],
      "text/plain": [
       "Scheme Code  100033  100034   100037    100038   100041    100042    100043  \\\n",
       "Date                                                                          \n",
       "2025-03-06   791.51  122.76  13.3546  121.6639  108.023  667.8672  685.3699   \n",
       "2022-02-02   684.30  130.34  13.3979  101.4304  108.023  549.2017  563.5946   \n",
       "2023-12-22   750.89  124.99  13.0216  111.0855  108.023  613.3346  629.4082   \n",
       "\n",
       "Scheme Code   100044   100046    100047  ...  153598  153599  153600  153601  \\\n",
       "Date                                     ...                                   \n",
       "2025-03-06   163.694  100.195  411.5543  ...     NaN     NaN     NaN     NaN   \n",
       "2022-02-02   163.694  100.195  338.4313  ...     NaN     NaN     NaN     NaN   \n",
       "2023-12-22   163.694  100.195  377.9509  ...     NaN     NaN     NaN     NaN   \n",
       "\n",
       "Scheme Code  153608  153618  153634  153635  153636  153637  \n",
       "Date                                                         \n",
       "2025-03-06      NaN     NaN     NaN     NaN     NaN     NaN  \n",
       "2022-02-02      NaN     NaN     NaN     NaN     NaN     NaN  \n",
       "2023-12-22      NaN     NaN     NaN     NaN     NaN     NaN  \n",
       "\n",
       "[3 rows x 13133 columns]"
      ]
     },
     "execution_count": 58,
     "metadata": {},
     "output_type": "execute_result"
    }
   ],
   "source": [
    "nav_wide = nav_wide.ffill()\n",
    "nav_wide.sample(3)"
   ]
  },
  {
   "cell_type": "code",
   "execution_count": 61,
   "id": "201b255a",
   "metadata": {},
   "outputs": [
    {
     "name": "stdout",
     "output_type": "stream",
     "text": [
      "355 \n",
      " 5300 \n",
      " 13488\n"
     ]
    }
   ],
   "source": [
    "pivot_df = df.pivot(index='Date', columns='Scheme Code', values='Net Asset Value')\n",
    "latest_schemes = set(map(int,pivot_df.columns))\n",
    "old_schemes = set(map(int,nav_wide.columns))\n",
    "new_schemes = latest_schemes - old_schemes\n",
    "missing_schemes = old_schemes - latest_schemes\n",
    "total_schemes = len(new_schemes) + len(old_schemes)\n",
    "print(len(new_schemes) ,\"\\n\", len(missing_schemes) , \"\\n\" , total_schemes)"
   ]
  },
  {
   "cell_type": "code",
   "execution_count": 64,
   "id": "a842998d",
   "metadata": {},
   "outputs": [
    {
     "data": {
      "text/plain": [
       "(1, 8188)"
      ]
     },
     "execution_count": 64,
     "metadata": {},
     "output_type": "execute_result"
    }
   ],
   "source": [
    "len(pivot_df) , len(pivot_df.columns)"
   ]
  },
  {
   "cell_type": "code",
   "execution_count": 62,
   "id": "62a85f72",
   "metadata": {},
   "outputs": [
    {
     "data": {
      "text/plain": [
       "0.3929418742586002"
      ]
     },
     "execution_count": 62,
     "metadata": {},
     "output_type": "execute_result"
    }
   ],
   "source": [
    "nav_wide2 = pd.concat( [nav_wide , pivot_df])\n",
    "np.isnan(nav_wide2.iloc[-1]).sum()/len(nav_wide2.columns)"
   ]
  },
  {
   "cell_type": "code",
   "execution_count": 63,
   "id": "0cd4a5df",
   "metadata": {},
   "outputs": [
    {
     "data": {
      "text/plain": [
       "(13133, 13488)"
      ]
     },
     "execution_count": 63,
     "metadata": {},
     "output_type": "execute_result"
    }
   ],
   "source": [
    "len(nav_wide.columns) , len(nav_wide2.columns)"
   ]
  },
  {
   "cell_type": "code",
   "execution_count": 65,
   "id": "ccee04cd",
   "metadata": {},
   "outputs": [
    {
     "data": {
      "text/plain": [
       "0.0"
      ]
     },
     "execution_count": 65,
     "metadata": {},
     "output_type": "execute_result"
    }
   ],
   "source": [
    "nav_wide2 = nav_wide2.ffill()\n",
    "np.isnan(nav_wide2[-2:].ffill().iloc[-1]).sum()/len(nav_wide2.columns)"
   ]
  },
  {
   "cell_type": "code",
   "execution_count": 69,
   "id": "6ec6e187",
   "metadata": {},
   "outputs": [],
   "source": [
    "nav_wide2.iloc[-2:] = nav_wide2.iloc[-2:].ffill()\n",
    "nav_wide2 = nav_wide2.drop(nav_wide2.index[-2])\n"
   ]
  },
  {
   "cell_type": "code",
   "execution_count": 71,
   "id": "8613a4ba",
   "metadata": {},
   "outputs": [],
   "source": [
    "updated_history = \"nav_time_series_updated.csv\"\n",
    "nav_wide2.to_csv(updated_history)"
   ]
  },
  {
   "cell_type": "code",
   "execution_count": 70,
   "id": "7155047a",
   "metadata": {},
   "outputs": [
    {
     "data": {
      "text/html": [
       "<div>\n",
       "<style scoped>\n",
       "    .dataframe tbody tr th:only-of-type {\n",
       "        vertical-align: middle;\n",
       "    }\n",
       "\n",
       "    .dataframe tbody tr th {\n",
       "        vertical-align: top;\n",
       "    }\n",
       "\n",
       "    .dataframe thead th {\n",
       "        text-align: right;\n",
       "    }\n",
       "</style>\n",
       "<table border=\"1\" class=\"dataframe\">\n",
       "  <thead>\n",
       "    <tr style=\"text-align: right;\">\n",
       "      <th>Scheme Code</th>\n",
       "      <th>100033</th>\n",
       "      <th>100034</th>\n",
       "      <th>100037</th>\n",
       "      <th>100038</th>\n",
       "      <th>100041</th>\n",
       "      <th>100042</th>\n",
       "      <th>100043</th>\n",
       "      <th>100044</th>\n",
       "      <th>100046</th>\n",
       "      <th>100047</th>\n",
       "      <th>...</th>\n",
       "      <th>152890</th>\n",
       "      <th>153096</th>\n",
       "      <th>153097</th>\n",
       "      <th>153264</th>\n",
       "      <th>153265</th>\n",
       "      <th>153403</th>\n",
       "      <th>153404</th>\n",
       "      <th>153405</th>\n",
       "      <th>153517</th>\n",
       "      <th>153518</th>\n",
       "    </tr>\n",
       "    <tr>\n",
       "      <th>Date</th>\n",
       "      <th></th>\n",
       "      <th></th>\n",
       "      <th></th>\n",
       "      <th></th>\n",
       "      <th></th>\n",
       "      <th></th>\n",
       "      <th></th>\n",
       "      <th></th>\n",
       "      <th></th>\n",
       "      <th></th>\n",
       "      <th></th>\n",
       "      <th></th>\n",
       "      <th></th>\n",
       "      <th></th>\n",
       "      <th></th>\n",
       "      <th></th>\n",
       "      <th></th>\n",
       "      <th></th>\n",
       "      <th></th>\n",
       "      <th></th>\n",
       "      <th></th>\n",
       "    </tr>\n",
       "  </thead>\n",
       "  <tbody>\n",
       "    <tr>\n",
       "      <th>2025-06-24</th>\n",
       "      <td>899.39</td>\n",
       "      <td>139.49</td>\n",
       "      <td>13.3537</td>\n",
       "      <td>125.6128</td>\n",
       "      <td>108.023</td>\n",
       "      <td>682.1731</td>\n",
       "      <td>700.0508</td>\n",
       "      <td>163.694</td>\n",
       "      <td>100.195</td>\n",
       "      <td>420.3698</td>\n",
       "      <td>...</td>\n",
       "      <td>NaN</td>\n",
       "      <td>NaN</td>\n",
       "      <td>NaN</td>\n",
       "      <td>NaN</td>\n",
       "      <td>NaN</td>\n",
       "      <td>NaN</td>\n",
       "      <td>NaN</td>\n",
       "      <td>NaN</td>\n",
       "      <td>NaN</td>\n",
       "      <td>NaN</td>\n",
       "    </tr>\n",
       "    <tr>\n",
       "      <th>2025-06-25</th>\n",
       "      <td>906.52</td>\n",
       "      <td>140.60</td>\n",
       "      <td>13.3354</td>\n",
       "      <td>125.4406</td>\n",
       "      <td>108.023</td>\n",
       "      <td>682.2363</td>\n",
       "      <td>700.1156</td>\n",
       "      <td>163.694</td>\n",
       "      <td>100.195</td>\n",
       "      <td>420.4088</td>\n",
       "      <td>...</td>\n",
       "      <td>NaN</td>\n",
       "      <td>NaN</td>\n",
       "      <td>NaN</td>\n",
       "      <td>NaN</td>\n",
       "      <td>NaN</td>\n",
       "      <td>NaN</td>\n",
       "      <td>NaN</td>\n",
       "      <td>NaN</td>\n",
       "      <td>NaN</td>\n",
       "      <td>NaN</td>\n",
       "    </tr>\n",
       "  </tbody>\n",
       "</table>\n",
       "<p>2 rows × 13488 columns</p>\n",
       "</div>"
      ],
      "text/plain": [
       "Scheme Code  100033  100034   100037    100038   100041    100042    100043  \\\n",
       "Date                                                                          \n",
       "2025-06-24   899.39  139.49  13.3537  125.6128  108.023  682.1731  700.0508   \n",
       "2025-06-25   906.52  140.60  13.3354  125.4406  108.023  682.2363  700.1156   \n",
       "\n",
       "Scheme Code   100044   100046    100047  ...  152890  153096  153097  153264  \\\n",
       "Date                                     ...                                   \n",
       "2025-06-24   163.694  100.195  420.3698  ...     NaN     NaN     NaN     NaN   \n",
       "2025-06-25   163.694  100.195  420.4088  ...     NaN     NaN     NaN     NaN   \n",
       "\n",
       "Scheme Code  153265  153403  153404  153405  153517  153518  \n",
       "Date                                                         \n",
       "2025-06-24      NaN     NaN     NaN     NaN     NaN     NaN  \n",
       "2025-06-25      NaN     NaN     NaN     NaN     NaN     NaN  \n",
       "\n",
       "[2 rows x 13488 columns]"
      ]
     },
     "execution_count": 70,
     "metadata": {},
     "output_type": "execute_result"
    }
   ],
   "source": [
    "nav_wide2.iloc[-2:]"
   ]
  },
  {
   "cell_type": "code",
   "execution_count": null,
   "id": "735717bb",
   "metadata": {},
   "outputs": [],
   "source": []
  }
 ],
 "metadata": {
  "kernelspec": {
   "display_name": "fixedDeposit",
   "language": "python",
   "name": "python3"
  },
  "language_info": {
   "codemirror_mode": {
    "name": "ipython",
    "version": 3
   },
   "file_extension": ".py",
   "mimetype": "text/x-python",
   "name": "python",
   "nbconvert_exporter": "python",
   "pygments_lexer": "ipython3",
   "version": "3.12.11"
  }
 },
 "nbformat": 4,
 "nbformat_minor": 5
}
